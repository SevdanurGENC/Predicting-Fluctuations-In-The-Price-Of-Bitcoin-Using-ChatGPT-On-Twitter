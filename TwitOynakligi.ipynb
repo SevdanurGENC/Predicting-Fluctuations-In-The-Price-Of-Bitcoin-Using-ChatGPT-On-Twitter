{
  "nbformat": 4,
  "nbformat_minor": 0,
  "metadata": {
    "colab": {
      "provenance": []
    },
    "kernelspec": {
      "name": "python3",
      "display_name": "Python 3"
    },
    "language_info": {
      "name": "python"
    }
  },
  "cells": [
    {
      "cell_type": "code",
      "execution_count": 1,
      "metadata": {
        "id": "9w4CjH7wOE5B"
      },
      "outputs": [],
      "source": [
        "import tweepy\n",
        "import pandas as pd\n",
        "from nltk.sentiment import SentimentIntensityAnalyzer\n",
        "\n",
        "# Twitter API anahtarlarınızı buraya girin\n",
        "consumer_key = \"YOUR_CONSUMER_KEY\"\n",
        "consumer_secret = \"YOUR_CONSUMER_SECRET\"\n",
        "access_token = \"YOUR_ACCESS_TOKEN\"\n",
        "access_token_secret = \"YOUR_ACCESS_TOKEN_SECRET\""
      ]
    },
    {
      "cell_type": "code",
      "source": [
        "# Twitter API'ye bağlanmak\n",
        "auth = tweepy.OAuthHandler(consumer_key, consumer_secret)\n",
        "auth.set_access_token(access_token, access_token_secret)\n",
        "api = tweepy.API(auth) "
      ],
      "metadata": {
        "id": "7JYOLesWORJl"
      },
      "execution_count": 2,
      "outputs": []
    },
    {
      "cell_type": "code",
      "source": [
        "# Bitcoin hakkında tweetleri çekmek\n",
        "tweets = api.search(q=\"#Bitcoin\", count=1000) "
      ],
      "metadata": {
        "id": "gW1L9cFMORTR"
      },
      "execution_count": 3,
      "outputs": []
    },
    {
      "cell_type": "code",
      "source": [
        "# Tweet metinlerini ve tarihlerini saklamak için bir dataframe oluşturmak\n",
        "data = pd.DataFrame(data=[tweet.text for tweet in tweets], columns=['tweets'])\n",
        "data['dates'] = [tweet.created_at for tweet in tweets] "
      ],
      "metadata": {
        "id": "2fTm5wJBOVEO"
      },
      "execution_count": 4,
      "outputs": []
    },
    {
      "cell_type": "code",
      "source": [
        "import nltk\n",
        "nltk.download('vader_lexicon')"
      ],
      "metadata": {
        "colab": {
          "base_uri": "https://localhost:8080/"
        },
        "id": "C-EmFlCjUtP1",
        "outputId": "8ecf25fd-44a8-43cc-ceec-fc85791d07cc"
      },
      "execution_count": 5,
      "outputs": [
        {
          "output_type": "stream",
          "name": "stderr",
          "text": [
            "[nltk_data] Downloading package vader_lexicon to /root/nltk_data...\n"
          ]
        },
        {
          "output_type": "execute_result",
          "data": {
            "text/plain": [
              "True"
            ]
          },
          "metadata": {},
          "execution_count": 5
        }
      ]
    },
    {
      "cell_type": "code",
      "source": [
        "# Duygu analizi için NLTK kullanmak\n",
        "sia = SentimentIntensityAnalyzer() "
      ],
      "metadata": {
        "id": "xOWji0YTOWRB"
      },
      "execution_count": 6,
      "outputs": []
    },
    {
      "cell_type": "code",
      "source": [
        "# Her tweet için duygu değerlerini hesaplamak\n",
        "list_of_scores = []\n",
        "for index, row in data.iterrows():\n",
        "    score = sia.polarity_scores(row[\"tweets\"])\n",
        "    list_of_scores.append(score) "
      ],
      "metadata": {
        "id": "a1z8PBoBOXtz"
      },
      "execution_count": 7,
      "outputs": []
    },
    {
      "cell_type": "code",
      "source": [
        "# Duygu değerlerini dataframe'e eklemek\n",
        "se = pd.Series(list_of_scores)\n",
        "data['polarity'] = se.values "
      ],
      "metadata": {
        "id": "064IBShKOYzX"
      },
      "execution_count": 8,
      "outputs": []
    },
    {
      "cell_type": "code",
      "source": [
        "dataNew = pd.DataFrame(list(data['polarity']), columns=['neg', 'neu','pos','compound'])\n",
        "dataNew"
      ],
      "metadata": {
        "colab": {
          "base_uri": "https://localhost:8080/",
          "height": 424
        },
        "id": "ofEO1_Kwek2-",
        "outputId": "b32f2d5b-e463-418a-96c1-389509661521"
      },
      "execution_count": 9,
      "outputs": [
        {
          "output_type": "execute_result",
          "data": {
            "text/plain": [
              "      neg    neu    pos  compound\n",
              "0   0.000  1.000  0.000    0.0000\n",
              "1   0.000  1.000  0.000    0.0000\n",
              "2   0.120  0.719  0.161    0.0516\n",
              "3   0.000  0.838  0.162    0.4019\n",
              "4   0.000  0.731  0.269    0.7096\n",
              "..    ...    ...    ...       ...\n",
              "88  0.000  1.000  0.000    0.0000\n",
              "89  0.000  0.799  0.201    0.7003\n",
              "90  0.187  0.767  0.047   -0.6369\n",
              "91  0.080  0.759  0.160    0.4404\n",
              "92  0.000  1.000  0.000    0.0000\n",
              "\n",
              "[93 rows x 4 columns]"
            ],
            "text/html": [
              "\n",
              "  <div id=\"df-3f260846-c740-4370-b7f7-8250fe745a7b\">\n",
              "    <div class=\"colab-df-container\">\n",
              "      <div>\n",
              "<style scoped>\n",
              "    .dataframe tbody tr th:only-of-type {\n",
              "        vertical-align: middle;\n",
              "    }\n",
              "\n",
              "    .dataframe tbody tr th {\n",
              "        vertical-align: top;\n",
              "    }\n",
              "\n",
              "    .dataframe thead th {\n",
              "        text-align: right;\n",
              "    }\n",
              "</style>\n",
              "<table border=\"1\" class=\"dataframe\">\n",
              "  <thead>\n",
              "    <tr style=\"text-align: right;\">\n",
              "      <th></th>\n",
              "      <th>neg</th>\n",
              "      <th>neu</th>\n",
              "      <th>pos</th>\n",
              "      <th>compound</th>\n",
              "    </tr>\n",
              "  </thead>\n",
              "  <tbody>\n",
              "    <tr>\n",
              "      <th>0</th>\n",
              "      <td>0.000</td>\n",
              "      <td>1.000</td>\n",
              "      <td>0.000</td>\n",
              "      <td>0.0000</td>\n",
              "    </tr>\n",
              "    <tr>\n",
              "      <th>1</th>\n",
              "      <td>0.000</td>\n",
              "      <td>1.000</td>\n",
              "      <td>0.000</td>\n",
              "      <td>0.0000</td>\n",
              "    </tr>\n",
              "    <tr>\n",
              "      <th>2</th>\n",
              "      <td>0.120</td>\n",
              "      <td>0.719</td>\n",
              "      <td>0.161</td>\n",
              "      <td>0.0516</td>\n",
              "    </tr>\n",
              "    <tr>\n",
              "      <th>3</th>\n",
              "      <td>0.000</td>\n",
              "      <td>0.838</td>\n",
              "      <td>0.162</td>\n",
              "      <td>0.4019</td>\n",
              "    </tr>\n",
              "    <tr>\n",
              "      <th>4</th>\n",
              "      <td>0.000</td>\n",
              "      <td>0.731</td>\n",
              "      <td>0.269</td>\n",
              "      <td>0.7096</td>\n",
              "    </tr>\n",
              "    <tr>\n",
              "      <th>...</th>\n",
              "      <td>...</td>\n",
              "      <td>...</td>\n",
              "      <td>...</td>\n",
              "      <td>...</td>\n",
              "    </tr>\n",
              "    <tr>\n",
              "      <th>88</th>\n",
              "      <td>0.000</td>\n",
              "      <td>1.000</td>\n",
              "      <td>0.000</td>\n",
              "      <td>0.0000</td>\n",
              "    </tr>\n",
              "    <tr>\n",
              "      <th>89</th>\n",
              "      <td>0.000</td>\n",
              "      <td>0.799</td>\n",
              "      <td>0.201</td>\n",
              "      <td>0.7003</td>\n",
              "    </tr>\n",
              "    <tr>\n",
              "      <th>90</th>\n",
              "      <td>0.187</td>\n",
              "      <td>0.767</td>\n",
              "      <td>0.047</td>\n",
              "      <td>-0.6369</td>\n",
              "    </tr>\n",
              "    <tr>\n",
              "      <th>91</th>\n",
              "      <td>0.080</td>\n",
              "      <td>0.759</td>\n",
              "      <td>0.160</td>\n",
              "      <td>0.4404</td>\n",
              "    </tr>\n",
              "    <tr>\n",
              "      <th>92</th>\n",
              "      <td>0.000</td>\n",
              "      <td>1.000</td>\n",
              "      <td>0.000</td>\n",
              "      <td>0.0000</td>\n",
              "    </tr>\n",
              "  </tbody>\n",
              "</table>\n",
              "<p>93 rows × 4 columns</p>\n",
              "</div>\n",
              "      <button class=\"colab-df-convert\" onclick=\"convertToInteractive('df-3f260846-c740-4370-b7f7-8250fe745a7b')\"\n",
              "              title=\"Convert this dataframe to an interactive table.\"\n",
              "              style=\"display:none;\">\n",
              "        \n",
              "  <svg xmlns=\"http://www.w3.org/2000/svg\" height=\"24px\"viewBox=\"0 0 24 24\"\n",
              "       width=\"24px\">\n",
              "    <path d=\"M0 0h24v24H0V0z\" fill=\"none\"/>\n",
              "    <path d=\"M18.56 5.44l.94 2.06.94-2.06 2.06-.94-2.06-.94-.94-2.06-.94 2.06-2.06.94zm-11 1L8.5 8.5l.94-2.06 2.06-.94-2.06-.94L8.5 2.5l-.94 2.06-2.06.94zm10 10l.94 2.06.94-2.06 2.06-.94-2.06-.94-.94-2.06-.94 2.06-2.06.94z\"/><path d=\"M17.41 7.96l-1.37-1.37c-.4-.4-.92-.59-1.43-.59-.52 0-1.04.2-1.43.59L10.3 9.45l-7.72 7.72c-.78.78-.78 2.05 0 2.83L4 21.41c.39.39.9.59 1.41.59.51 0 1.02-.2 1.41-.59l7.78-7.78 2.81-2.81c.8-.78.8-2.07 0-2.86zM5.41 20L4 18.59l7.72-7.72 1.47 1.35L5.41 20z\"/>\n",
              "  </svg>\n",
              "      </button>\n",
              "      \n",
              "  <style>\n",
              "    .colab-df-container {\n",
              "      display:flex;\n",
              "      flex-wrap:wrap;\n",
              "      gap: 12px;\n",
              "    }\n",
              "\n",
              "    .colab-df-convert {\n",
              "      background-color: #E8F0FE;\n",
              "      border: none;\n",
              "      border-radius: 50%;\n",
              "      cursor: pointer;\n",
              "      display: none;\n",
              "      fill: #1967D2;\n",
              "      height: 32px;\n",
              "      padding: 0 0 0 0;\n",
              "      width: 32px;\n",
              "    }\n",
              "\n",
              "    .colab-df-convert:hover {\n",
              "      background-color: #E2EBFA;\n",
              "      box-shadow: 0px 1px 2px rgba(60, 64, 67, 0.3), 0px 1px 3px 1px rgba(60, 64, 67, 0.15);\n",
              "      fill: #174EA6;\n",
              "    }\n",
              "\n",
              "    [theme=dark] .colab-df-convert {\n",
              "      background-color: #3B4455;\n",
              "      fill: #D2E3FC;\n",
              "    }\n",
              "\n",
              "    [theme=dark] .colab-df-convert:hover {\n",
              "      background-color: #434B5C;\n",
              "      box-shadow: 0px 1px 3px 1px rgba(0, 0, 0, 0.15);\n",
              "      filter: drop-shadow(0px 1px 2px rgba(0, 0, 0, 0.3));\n",
              "      fill: #FFFFFF;\n",
              "    }\n",
              "  </style>\n",
              "\n",
              "      <script>\n",
              "        const buttonEl =\n",
              "          document.querySelector('#df-3f260846-c740-4370-b7f7-8250fe745a7b button.colab-df-convert');\n",
              "        buttonEl.style.display =\n",
              "          google.colab.kernel.accessAllowed ? 'block' : 'none';\n",
              "\n",
              "        async function convertToInteractive(key) {\n",
              "          const element = document.querySelector('#df-3f260846-c740-4370-b7f7-8250fe745a7b');\n",
              "          const dataTable =\n",
              "            await google.colab.kernel.invokeFunction('convertToInteractive',\n",
              "                                                     [key], {});\n",
              "          if (!dataTable) return;\n",
              "\n",
              "          const docLinkHtml = 'Like what you see? Visit the ' +\n",
              "            '<a target=\"_blank\" href=https://colab.research.google.com/notebooks/data_table.ipynb>data table notebook</a>'\n",
              "            + ' to learn more about interactive tables.';\n",
              "          element.innerHTML = '';\n",
              "          dataTable['output_type'] = 'display_data';\n",
              "          await google.colab.output.renderOutput(dataTable, element);\n",
              "          const docLink = document.createElement('div');\n",
              "          docLink.innerHTML = docLinkHtml;\n",
              "          element.appendChild(docLink);\n",
              "        }\n",
              "      </script>\n",
              "    </div>\n",
              "  </div>\n",
              "  "
            ]
          },
          "metadata": {},
          "execution_count": 9
        }
      ]
    },
    {
      "cell_type": "code",
      "source": [
        "dataNew.info()"
      ],
      "metadata": {
        "id": "xyiL5_MXk8Xa",
        "outputId": "5ca22ee4-b447-454e-e3eb-000fcb452825",
        "colab": {
          "base_uri": "https://localhost:8080/"
        }
      },
      "execution_count": 10,
      "outputs": [
        {
          "output_type": "stream",
          "name": "stdout",
          "text": [
            "<class 'pandas.core.frame.DataFrame'>\n",
            "RangeIndex: 93 entries, 0 to 92\n",
            "Data columns (total 4 columns):\n",
            " #   Column    Non-Null Count  Dtype  \n",
            "---  ------    --------------  -----  \n",
            " 0   neg       93 non-null     float64\n",
            " 1   neu       93 non-null     float64\n",
            " 2   pos       93 non-null     float64\n",
            " 3   compound  93 non-null     float64\n",
            "dtypes: float64(4)\n",
            "memory usage: 3.0 KB\n"
          ]
        }
      ]
    },
    {
      "cell_type": "code",
      "source": [
        "dataNew['rolling_neg_std'] = dataNew['neg'].rolling(window=62).std"
      ],
      "metadata": {
        "id": "nbxc5bWbn4Ea"
      },
      "execution_count": 11,
      "outputs": []
    },
    {
      "cell_type": "code",
      "source": [
        "print(dataNew.head())"
      ],
      "metadata": {
        "colab": {
          "base_uri": "https://localhost:8080/"
        },
        "id": "HqcIF3zxoHoh",
        "outputId": "2244c551-8025-43c9-815a-21bcede0fe4b"
      },
      "execution_count": 12,
      "outputs": [
        {
          "output_type": "stream",
          "name": "stdout",
          "text": [
            "    neg    neu    pos  compound  \\\n",
            "0  0.00  1.000  0.000    0.0000   \n",
            "1  0.00  1.000  0.000    0.0000   \n",
            "2  0.12  0.719  0.161    0.0516   \n",
            "3  0.00  0.838  0.162    0.4019   \n",
            "4  0.00  0.731  0.269    0.7096   \n",
            "\n",
            "                                     rolling_neg_std  \n",
            "0  <bound method Rolling.std of Rolling [window=6...  \n",
            "1  <bound method Rolling.std of Rolling [window=6...  \n",
            "2  <bound method Rolling.std of Rolling [window=6...  \n",
            "3  <bound method Rolling.std of Rolling [window=6...  \n",
            "4  <bound method Rolling.std of Rolling [window=6...  \n"
          ]
        }
      ]
    },
    {
      "cell_type": "code",
      "source": [
        "# Volatilite hesaplamak (252 günlük standart sapması)\n",
        "data['rolling_std'] = data['polarity'].rolling(window=252).std"
      ],
      "metadata": {
        "id": "b28ZzRz4OZwd"
      },
      "execution_count": 13,
      "outputs": []
    },
    {
      "cell_type": "code",
      "source": [
        "# Sonuçları göstermek\n",
        "print(data.head())"
      ],
      "metadata": {
        "colab": {
          "base_uri": "https://localhost:8080/"
        },
        "id": "5vjaFgXSOakg",
        "outputId": "c4e4957f-b097-41cb-f939-0ee0f2a43167"
      },
      "execution_count": 14,
      "outputs": [
        {
          "output_type": "stream",
          "name": "stdout",
          "text": [
            "                                              tweets               dates  \\\n",
            "0  RT @natbrunell: Over time:\\n\\n📉 Fiat\\n📉 Eggs\\n... 2023-01-29 22:36:45   \n",
            "1  RT @paulewaulpaul: Still in the zone.\\n\\nThe p... 2023-01-29 22:36:45   \n",
            "2  RT @saylor: #Bitcoin is a swarm of cyber horne... 2023-01-29 22:36:44   \n",
            "3  RT @saylor: \"Be the change you wish to see in ... 2023-01-29 22:36:44   \n",
            "4  RT @saylor: While markets shudder and pundits ... 2023-01-29 22:36:44   \n",
            "\n",
            "                                            polarity  \\\n",
            "0  {'neg': 0.0, 'neu': 1.0, 'pos': 0.0, 'compound...   \n",
            "1  {'neg': 0.0, 'neu': 1.0, 'pos': 0.0, 'compound...   \n",
            "2  {'neg': 0.12, 'neu': 0.719, 'pos': 0.161, 'com...   \n",
            "3  {'neg': 0.0, 'neu': 0.838, 'pos': 0.162, 'comp...   \n",
            "4  {'neg': 0.0, 'neu': 0.731, 'pos': 0.269, 'comp...   \n",
            "\n",
            "                                         rolling_std  \n",
            "0  <bound method Rolling.std of Rolling [window=2...  \n",
            "1  <bound method Rolling.std of Rolling [window=2...  \n",
            "2  <bound method Rolling.std of Rolling [window=2...  \n",
            "3  <bound method Rolling.std of Rolling [window=2...  \n",
            "4  <bound method Rolling.std of Rolling [window=2...  \n"
          ]
        }
      ]
    },
    {
      "cell_type": "code",
      "source": [
        "data.info()"
      ],
      "metadata": {
        "colab": {
          "base_uri": "https://localhost:8080/"
        },
        "id": "IIZfsurrltPj",
        "outputId": "01615d45-b2eb-41e3-ebf5-81abe953a915"
      },
      "execution_count": 15,
      "outputs": [
        {
          "output_type": "stream",
          "name": "stdout",
          "text": [
            "<class 'pandas.core.frame.DataFrame'>\n",
            "RangeIndex: 93 entries, 0 to 92\n",
            "Data columns (total 4 columns):\n",
            " #   Column       Non-Null Count  Dtype         \n",
            "---  ------       --------------  -----         \n",
            " 0   tweets       93 non-null     object        \n",
            " 1   dates        93 non-null     datetime64[ns]\n",
            " 2   polarity     93 non-null     object        \n",
            " 3   rolling_std  93 non-null     object        \n",
            "dtypes: datetime64[ns](1), object(3)\n",
            "memory usage: 3.0+ KB\n"
          ]
        }
      ]
    }
  ]
}